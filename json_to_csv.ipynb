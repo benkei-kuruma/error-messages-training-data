{
  "nbformat": 4,
  "nbformat_minor": 0,
  "metadata": {
    "colab": {
      "provenance": [],
      "authorship_tag": "ABX9TyORIRU0sUPuT3ff6cG0p8Vf",
      "include_colab_link": true
    },
    "kernelspec": {
      "name": "python3",
      "display_name": "Python 3"
    },
    "language_info": {
      "name": "python"
    }
  },
  "cells": [
    {
      "cell_type": "markdown",
      "metadata": {
        "id": "view-in-github",
        "colab_type": "text"
      },
      "source": [
        "<a href=\"https://colab.research.google.com/github/benkei-kuruma/error-messages-training-data/blob/main/json_to_csv.ipynb\" target=\"_parent\"><img src=\"https://colab.research.google.com/assets/colab-badge.svg\" alt=\"Open In Colab\"/></a>"
      ]
    },
    {
      "cell_type": "code",
      "execution_count": 21,
      "metadata": {
        "id": "KGn_tyQgKoq9"
      },
      "outputs": [],
      "source": [
        "import json\n",
        "import csv\n",
        "\n",
        "with open('/content/drive/MyDrive/Colab Notebooks/errors.json') as json_file:\n",
        "    data = json.load(json_file)\n",
        "\n",
        "csv_file = open('errors.csv', 'w')\n",
        "csv_writer = csv.writer(csv_file)\n",
        "\n",
        "for first_key in data.keys():\n",
        "  for second_key in data[first_key].keys():\n",
        "    string = data[first_key][second_key][0].upper()\n",
        "    csv_writer.writerow([string])\n",
        "\n",
        "csv_file.close()"
      ]
    }
  ]
}